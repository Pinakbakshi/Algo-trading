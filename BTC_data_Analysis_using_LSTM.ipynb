{
  "nbformat": 4,
  "nbformat_minor": 0,
  "metadata": {
    "colab": {
      "provenance": [],
      "authorship_tag": "ABX9TyMTtyOjKTKTW2xkf1r8YtfG",
      "include_colab_link": true
    },
    "kernelspec": {
      "name": "python3",
      "display_name": "Python 3"
    },
    "language_info": {
      "name": "python"
    }
  },
  "cells": [
    {
      "cell_type": "markdown",
      "metadata": {
        "id": "view-in-github",
        "colab_type": "text"
      },
      "source": [
        "<a href=\"https://colab.research.google.com/github/Pinakbakshi/Algo-trading/blob/main/BTC_data_Analysis_using_LSTM.ipynb\" target=\"_parent\"><img src=\"https://colab.research.google.com/assets/colab-badge.svg\" alt=\"Open In Colab\"/></a>"
      ]
    },
    {
      "cell_type": "code",
      "execution_count": null,
      "metadata": {
        "colab": {
          "base_uri": "https://localhost:8080/"
        },
        "id": "-vMg_kadEviW",
        "outputId": "f19283ea-f8ca-4662-e940-0283789de3c7"
      },
      "outputs": [
        {
          "output_type": "stream",
          "name": "stdout",
          "text": [
            "Requirement already satisfied: tensorflow in /usr/local/lib/python3.10/dist-packages (2.15.0)\n",
            "Requirement already satisfied: absl-py>=1.0.0 in /usr/local/lib/python3.10/dist-packages (from tensorflow) (1.4.0)\n",
            "Requirement already satisfied: astunparse>=1.6.0 in /usr/local/lib/python3.10/dist-packages (from tensorflow) (1.6.3)\n",
            "Requirement already satisfied: flatbuffers>=23.5.26 in /usr/local/lib/python3.10/dist-packages (from tensorflow) (24.3.25)\n",
            "Requirement already satisfied: gast!=0.5.0,!=0.5.1,!=0.5.2,>=0.2.1 in /usr/local/lib/python3.10/dist-packages (from tensorflow) (0.6.0)\n",
            "Requirement already satisfied: google-pasta>=0.1.1 in /usr/local/lib/python3.10/dist-packages (from tensorflow) (0.2.0)\n",
            "Requirement already satisfied: h5py>=2.9.0 in /usr/local/lib/python3.10/dist-packages (from tensorflow) (3.9.0)\n",
            "Requirement already satisfied: libclang>=13.0.0 in /usr/local/lib/python3.10/dist-packages (from tensorflow) (18.1.1)\n",
            "Requirement already satisfied: ml-dtypes~=0.2.0 in /usr/local/lib/python3.10/dist-packages (from tensorflow) (0.2.0)\n",
            "Requirement already satisfied: numpy<2.0.0,>=1.23.5 in /usr/local/lib/python3.10/dist-packages (from tensorflow) (1.25.2)\n",
            "Requirement already satisfied: opt-einsum>=2.3.2 in /usr/local/lib/python3.10/dist-packages (from tensorflow) (3.3.0)\n",
            "Requirement already satisfied: packaging in /usr/local/lib/python3.10/dist-packages (from tensorflow) (24.1)\n",
            "Requirement already satisfied: protobuf!=4.21.0,!=4.21.1,!=4.21.2,!=4.21.3,!=4.21.4,!=4.21.5,<5.0.0dev,>=3.20.3 in /usr/local/lib/python3.10/dist-packages (from tensorflow) (3.20.3)\n",
            "Requirement already satisfied: setuptools in /usr/local/lib/python3.10/dist-packages (from tensorflow) (67.7.2)\n",
            "Requirement already satisfied: six>=1.12.0 in /usr/local/lib/python3.10/dist-packages (from tensorflow) (1.16.0)\n",
            "Requirement already satisfied: termcolor>=1.1.0 in /usr/local/lib/python3.10/dist-packages (from tensorflow) (2.4.0)\n",
            "Requirement already satisfied: typing-extensions>=3.6.6 in /usr/local/lib/python3.10/dist-packages (from tensorflow) (4.12.2)\n",
            "Requirement already satisfied: wrapt<1.15,>=1.11.0 in /usr/local/lib/python3.10/dist-packages (from tensorflow) (1.14.1)\n",
            "Requirement already satisfied: tensorflow-io-gcs-filesystem>=0.23.1 in /usr/local/lib/python3.10/dist-packages (from tensorflow) (0.37.1)\n",
            "Requirement already satisfied: grpcio<2.0,>=1.24.3 in /usr/local/lib/python3.10/dist-packages (from tensorflow) (1.64.1)\n",
            "Requirement already satisfied: tensorboard<2.16,>=2.15 in /usr/local/lib/python3.10/dist-packages (from tensorflow) (2.15.2)\n",
            "Requirement already satisfied: tensorflow-estimator<2.16,>=2.15.0 in /usr/local/lib/python3.10/dist-packages (from tensorflow) (2.15.0)\n",
            "Requirement already satisfied: keras<2.16,>=2.15.0 in /usr/local/lib/python3.10/dist-packages (from tensorflow) (2.15.0)\n",
            "Requirement already satisfied: wheel<1.0,>=0.23.0 in /usr/local/lib/python3.10/dist-packages (from astunparse>=1.6.0->tensorflow) (0.43.0)\n",
            "Requirement already satisfied: google-auth<3,>=1.6.3 in /usr/local/lib/python3.10/dist-packages (from tensorboard<2.16,>=2.15->tensorflow) (2.27.0)\n",
            "Requirement already satisfied: google-auth-oauthlib<2,>=0.5 in /usr/local/lib/python3.10/dist-packages (from tensorboard<2.16,>=2.15->tensorflow) (1.2.1)\n",
            "Requirement already satisfied: markdown>=2.6.8 in /usr/local/lib/python3.10/dist-packages (from tensorboard<2.16,>=2.15->tensorflow) (3.6)\n",
            "Requirement already satisfied: requests<3,>=2.21.0 in /usr/local/lib/python3.10/dist-packages (from tensorboard<2.16,>=2.15->tensorflow) (2.31.0)\n",
            "Requirement already satisfied: tensorboard-data-server<0.8.0,>=0.7.0 in /usr/local/lib/python3.10/dist-packages (from tensorboard<2.16,>=2.15->tensorflow) (0.7.2)\n",
            "Requirement already satisfied: werkzeug>=1.0.1 in /usr/local/lib/python3.10/dist-packages (from tensorboard<2.16,>=2.15->tensorflow) (3.0.3)\n",
            "Requirement already satisfied: cachetools<6.0,>=2.0.0 in /usr/local/lib/python3.10/dist-packages (from google-auth<3,>=1.6.3->tensorboard<2.16,>=2.15->tensorflow) (5.3.3)\n",
            "Requirement already satisfied: pyasn1-modules>=0.2.1 in /usr/local/lib/python3.10/dist-packages (from google-auth<3,>=1.6.3->tensorboard<2.16,>=2.15->tensorflow) (0.4.0)\n",
            "Requirement already satisfied: rsa<5,>=3.1.4 in /usr/local/lib/python3.10/dist-packages (from google-auth<3,>=1.6.3->tensorboard<2.16,>=2.15->tensorflow) (4.9)\n",
            "Requirement already satisfied: requests-oauthlib>=0.7.0 in /usr/local/lib/python3.10/dist-packages (from google-auth-oauthlib<2,>=0.5->tensorboard<2.16,>=2.15->tensorflow) (1.3.1)\n",
            "Requirement already satisfied: charset-normalizer<4,>=2 in /usr/local/lib/python3.10/dist-packages (from requests<3,>=2.21.0->tensorboard<2.16,>=2.15->tensorflow) (3.3.2)\n",
            "Requirement already satisfied: idna<4,>=2.5 in /usr/local/lib/python3.10/dist-packages (from requests<3,>=2.21.0->tensorboard<2.16,>=2.15->tensorflow) (3.7)\n",
            "Requirement already satisfied: urllib3<3,>=1.21.1 in /usr/local/lib/python3.10/dist-packages (from requests<3,>=2.21.0->tensorboard<2.16,>=2.15->tensorflow) (2.0.7)\n",
            "Requirement already satisfied: certifi>=2017.4.17 in /usr/local/lib/python3.10/dist-packages (from requests<3,>=2.21.0->tensorboard<2.16,>=2.15->tensorflow) (2024.7.4)\n",
            "Requirement already satisfied: MarkupSafe>=2.1.1 in /usr/local/lib/python3.10/dist-packages (from werkzeug>=1.0.1->tensorboard<2.16,>=2.15->tensorflow) (2.1.5)\n",
            "Requirement already satisfied: pyasn1<0.7.0,>=0.4.6 in /usr/local/lib/python3.10/dist-packages (from pyasn1-modules>=0.2.1->google-auth<3,>=1.6.3->tensorboard<2.16,>=2.15->tensorflow) (0.6.0)\n",
            "Requirement already satisfied: oauthlib>=3.0.0 in /usr/local/lib/python3.10/dist-packages (from requests-oauthlib>=0.7.0->google-auth-oauthlib<2,>=0.5->tensorboard<2.16,>=2.15->tensorflow) (3.2.2)\n",
            "Requirement already satisfied: keras in /usr/local/lib/python3.10/dist-packages (2.15.0)\n"
          ]
        }
      ],
      "source": [
        "!pip install tensorflow\n",
        "!pip install keras\n"
      ]
    },
    {
      "cell_type": "code",
      "source": [
        "import pandas as pd\n",
        "import numpy as np\n",
        "from sklearn.preprocessing import MinMaxScaler\n",
        "from sklearn.model_selection import train_test_split\n",
        "from sklearn.metrics import precision_score, recall_score, f1_score\n",
        "from keras.models import Sequential\n",
        "from keras.layers import LSTM, Dense, Dropout"
      ],
      "metadata": {
        "id": "STh5aCApRvSb"
      },
      "execution_count": null,
      "outputs": []
    },
    {
      "cell_type": "code",
      "source": [
        "# Load the dataset\n",
        "file_path = '/content/BTC-USDT_30m.csv'\n",
        "data = pd.read_csv(file_path)"
      ],
      "metadata": {
        "id": "hzoFEFZAR3Bw"
      },
      "execution_count": null,
      "outputs": []
    },
    {
      "cell_type": "code",
      "source": [
        "# Preprocessing the data\n",
        "data['timestamp'] = pd.to_datetime(data['timestamp'])\n",
        "data.set_index('timestamp', inplace=True)"
      ],
      "metadata": {
        "id": "AMmCb1Q9R9Lp"
      },
      "execution_count": null,
      "outputs": []
    },
    {
      "cell_type": "code",
      "source": [
        "# Normalize the data\n",
        "scaler = MinMaxScaler(feature_range=(0, 1))\n",
        "scaled_data = scaler.fit_transform(data)"
      ],
      "metadata": {
        "id": "K-vE_eyWSAES"
      },
      "execution_count": null,
      "outputs": []
    },
    {
      "cell_type": "code",
      "source": [
        "# Create sequences for LSTM\n",
        "def create_sequences(data, seq_length):\n",
        "    X = []\n",
        "    y = []\n",
        "    for i in range(len(data) - seq_length - 1):\n",
        "        X.append(data[i:(i + seq_length), :-1])\n",
        "        y.append(data[i + seq_length, 3])  # Close price as the target\n",
        "    return np.array(X), np.array(y)\n",
        "\n",
        "seq_length = 60  # Using 60 time steps\n",
        "X, y = create_sequences(scaled_data, seq_length)\n"
      ],
      "metadata": {
        "id": "z37O293jSAf-"
      },
      "execution_count": null,
      "outputs": []
    },
    {
      "cell_type": "code",
      "source": [
        "# Split the data into training and testing sets\n",
        "X_train, X_test, y_train, y_test = train_test_split(X, y, test_size=0.2, random_state=42)"
      ],
      "metadata": {
        "id": "UdllffVGSI4p"
      },
      "execution_count": null,
      "outputs": []
    },
    {
      "cell_type": "code",
      "source": [
        "# Build the LSTM model\n",
        "model = Sequential()\n",
        "model.add(LSTM(units=50, return_sequences=True, input_shape=(X_train.shape[1], X_train.shape[2])))\n",
        "model.add(Dropout(0.2))\n",
        "model.add(LSTM(units=50, return_sequences=False))\n",
        "model.add(Dropout(0.2))\n",
        "model.add(Dense(units=1))\n",
        "\n",
        "model.compile(optimizer='adam', loss='mean_squared_error')"
      ],
      "metadata": {
        "id": "fxWz3L85SMpg"
      },
      "execution_count": null,
      "outputs": []
    },
    {
      "cell_type": "code",
      "source": [
        "# Train the model\n",
        "history = model.fit(X_train, y_train, epochs=2, batch_size=32, validation_split=0.1, shuffle=False)"
      ],
      "metadata": {
        "colab": {
          "base_uri": "https://localhost:8080/"
        },
        "id": "etQfFQbnSQT0",
        "outputId": "b5ff6099-94d3-4475-a52a-d76ab7dbcd49"
      },
      "execution_count": null,
      "outputs": [
        {
          "output_type": "stream",
          "name": "stdout",
          "text": [
            "Epoch 1/2\n",
            "2694/2694 [==============================] - 192s 69ms/step - loss: 0.0011 - val_loss: 2.7573e-05\n",
            "Epoch 2/2\n",
            "2694/2694 [==============================] - 148s 55ms/step - loss: 5.1706e-04 - val_loss: 2.7343e-05\n"
          ]
        }
      ]
    },
    {
      "cell_type": "code",
      "source": [
        "# Predict on the test set\n",
        "y_pred = model.predict(X_test)"
      ],
      "metadata": {
        "colab": {
          "base_uri": "https://localhost:8080/"
        },
        "id": "uMcQbbdKSXH4",
        "outputId": "1bd976d2-c134-4ff5-a01c-fb0003d5d83b"
      },
      "execution_count": null,
      "outputs": [
        {
          "output_type": "stream",
          "name": "stdout",
          "text": [
            "749/749 [==============================] - 13s 17ms/step\n"
          ]
        }
      ]
    },
    {
      "cell_type": "code",
      "source": [
        "y_pred = model.predict(X_test)\n",
        "\n",
        "# Reshape y_test and y_pred for inverse transform\n",
        "y_test_reshaped = y_test.reshape(-1, 1)\n",
        "y_pred_reshaped = y_pred.reshape(-1, 1)\n",
        "\n",
        "# Inverse transform to get actual values\n",
        "y_test_inv = scaler.inverse_transform(np.concatenate((np.zeros((y_test_reshaped.shape[0], X_test.shape[2])), y_test_reshaped), axis=1))[:, -1]\n",
        "y_pred_inv = scaler.inverse_transform(np.concatenate((np.zeros((y_pred_reshaped.shape[0], X_test.shape[2])), y_pred_reshaped), axis=1))[:, -1]\n",
        "\n",
        "# Evaluate the model\n",
        "precision = precision_score(y_test_inv > 0, y_pred_inv > 0, zero_division=1)\n",
        "recall = recall_score(y_test_inv > 0, y_pred_inv > 0, zero_division=1)\n",
        "f1 = f1_score(y_test_inv > 0, y_pred_inv > 0, zero_division=1)\n",
        "\n",
        "print(f'Precision: {precision}')\n",
        "print(f'Recall: {recall}')\n",
        "print(f'F1 Score: {f1}')"
      ],
      "metadata": {
        "colab": {
          "base_uri": "https://localhost:8080/"
        },
        "id": "f51kewV3SaXB",
        "outputId": "408aaac3-0e12-4448-ed54-da3cc6a16026"
      },
      "execution_count": null,
      "outputs": [
        {
          "output_type": "stream",
          "name": "stdout",
          "text": [
            "749/749 [==============================] - 16s 21ms/step\n",
            "Precision: 1.0\n",
            "Recall: 1.0\n",
            "F1 Score: 1.0\n"
          ]
        }
      ]
    },
    {
      "cell_type": "code",
      "source": [
        "# Evaluate the model\n",
        "precision = precision_score(y_test_inv > 0, y_pred_inv > 0)\n",
        "recall = recall_score(y_test_inv > 0, y_pred_inv > 0)\n",
        "f1 = f1_score(y_test_inv > 0, y_pred_inv > 0)\n",
        "\n",
        "\n",
        "print(f'Precision: {precision}')\n",
        "print(f'Recall: {recall}')\n",
        "print(f'F1 Score: {f1}')"
      ],
      "metadata": {
        "colab": {
          "base_uri": "https://localhost:8080/"
        },
        "id": "eXhP9MylSiVj",
        "outputId": "e50025f6-d30f-475b-8860-ce67bfe50dce"
      },
      "execution_count": null,
      "outputs": [
        {
          "output_type": "stream",
          "name": "stdout",
          "text": [
            "Precision: 1.0\n",
            "Recall: 1.0\n",
            "F1 Score: 1.0\n"
          ]
        }
      ]
    },
    {
      "cell_type": "code",
      "source": [
        "# Generate buy/sell signals\n",
        "signals = []\n",
        "for i in range(1, len(y_pred_inv)):\n",
        "    if y_pred_inv[i] > y_test_inv[i-1]:\n",
        "        signals.append(\"BUY\")\n",
        "    else:\n",
        "        signals.append(\"SELL\")\n",
        "\n",
        "# Add signals to the original dataset\n",
        "data['Signal'] = np.nan\n",
        "data['Signal'].iloc[-len(signals):] = signals\n",
        "\n",
        "# Display the latest signals\n",
        "print(data[['open', 'high', 'low', 'close', 'Signal']].tail())"
      ],
      "metadata": {
        "colab": {
          "base_uri": "https://localhost:8080/"
        },
        "id": "_bcElOJ8SrXf",
        "outputId": "47a742fa-6e56-4f9d-fef7-166f1d82c9d5"
      },
      "execution_count": null,
      "outputs": [
        {
          "output_type": "stream",
          "name": "stdout",
          "text": [
            "                         open      high       low     close Signal\n",
            "timestamp                                                         \n",
            "2024-06-22 05:30:00  64361.49  64427.98  64334.01  64424.21   SELL\n",
            "2024-06-22 06:00:00  64424.21  64466.00  64362.06  64408.56   SELL\n",
            "2024-06-22 06:30:00  64408.57  64530.61  64370.00  64430.00    BUY\n",
            "2024-06-22 07:00:00  64430.01  64444.00  64324.67  64408.19    BUY\n",
            "2024-06-22 07:30:00  64408.18  64490.79  64402.54  64465.29   SELL\n"
          ]
        }
      ]
    },
    {
      "cell_type": "code",
      "source": [],
      "metadata": {
        "id": "n7pGk2RdSrp3"
      },
      "execution_count": null,
      "outputs": []
    },
    {
      "cell_type": "code",
      "source": [
        "import pandas as pd\n",
        "import numpy as np\n",
        "from sklearn.preprocessing import MinMaxScaler\n",
        "from sklearn.model_selection import train_test_split\n",
        "from sklearn.metrics import precision_score, recall_score, f1_score\n",
        "from keras.models import Sequential\n",
        "from keras.layers import LSTM, Dense, Dropout\n",
        "\n",
        "# Load the dataset\n",
        "file_path = '/content/BTC-USDT_30m.csv'\n",
        "data = pd.read_csv(file_path)\n",
        "\n",
        "# Preprocessing the data\n",
        "data['timestamp'] = pd.to_datetime(data['timestamp'])\n",
        "data.set_index('timestamp', inplace=True)\n",
        "\n",
        "# Normalize the data\n",
        "scaler = MinMaxScaler(feature_range=(0, 1))\n",
        "scaled_data = scaler.fit_transform(data)\n",
        "\n",
        "# Create sequences for LSTM\n",
        "def create_sequences(data, seq_length):\n",
        "    X = []\n",
        "    y = []\n",
        "    for i in range(len(data) - seq_length - 1):\n",
        "        X.append(data[i:(i + seq_length), :-1])\n",
        "        y.append(data[i + seq_length, 3])  # Close price as the target\n",
        "    return np.array(X), np.array(y)\n",
        "\n",
        "seq_length = 60  # Using 60 time steps\n",
        "X, y = create_sequences(scaled_data, seq_length)\n",
        "\n",
        "# Split the data into training and testing sets\n",
        "X_train, X_test, y_train, y_test = train_test_split(X, y, test_size=0.2, random_state=42)\n",
        "\n",
        "# Build the LSTM model\n",
        "model = Sequential()\n",
        "model.add(LSTM(units=50, return_sequences=True, input_shape=(X_train.shape[1], X_train.shape[2])))\n",
        "model.add(Dropout(0.2))\n",
        "model.add(LSTM(units=50, return_sequences=False))\n",
        "model.add(Dropout(0.2))\n",
        "model.add(Dense(units=1))\n",
        "\n",
        "model.compile(optimizer='adam', loss='mean_squared_error')\n",
        "\n",
        "# Train the model\n",
        "history = model.fit(X_train, y_train, epochs=10, batch_size=32, validation_split=0.1, shuffle=False)\n",
        "\n",
        "y_pred = model.predict(X_test)\n",
        "\n",
        "# Reshape y_test and y_pred for inverse transform\n",
        "y_test_reshaped = y_test.reshape(-1, 1)\n",
        "y_pred_reshaped = y_pred.reshape(-1, 1)\n",
        "\n",
        "# Inverse transform to get actual values\n",
        "y_test_inv = scaler.inverse_transform(np.concatenate((np.zeros((y_test_reshaped.shape[0], X_test.shape[2])), y_test_reshaped), axis=1))[:, -1]\n",
        "y_pred_inv = scaler.inverse_transform(np.concatenate((np.zeros((y_pred_reshaped.shape[0], X_test.shape[2])), y_pred_reshaped), axis=1))[:, -1]\n",
        "\n",
        "# Evaluate the model\n",
        "precision = precision_score(y_test_inv > 0, y_pred_inv > 0, zero_division=1)\n",
        "recall = recall_score(y_test_inv > 0, y_pred_inv > 0, zero_division=1)\n",
        "f1 = f1_score(y_test_inv > 0, y_pred_inv > 0, zero_division=1)\n",
        "\n",
        "print(f'Precision: {precision}')\n",
        "print(f'Recall: {recall}')\n",
        "print(f'F1 Score: {f1}')\n",
        "\n",
        "\n",
        "# Generate buy/sell signals\n",
        "signals = []\n",
        "for i in range(1, len(y_pred_inv)):\n",
        "    if y_pred_inv[i] > y_test_inv[i-1]:\n",
        "        signals.append(\"BUY\")\n",
        "    else:\n",
        "        signals.append(\"SELL\")\n",
        "\n",
        "# Add signals to the original dataset\n",
        "data['Signal'] = np.nan\n",
        "data['Signal'].iloc[-len(signals):] = signals\n",
        "\n",
        "# Display the latest signals\n",
        "print(data[['open', 'high', 'low', 'close', 'Signal']].tail())\n"
      ],
      "metadata": {
        "colab": {
          "base_uri": "https://localhost:8080/"
        },
        "id": "qdAQmid7FKio",
        "outputId": "b40eaa71-1f41-4ec6-c112-2d861e633c19"
      },
      "execution_count": 2,
      "outputs": [
        {
          "output_type": "stream",
          "name": "stdout",
          "text": [
            "Epoch 1/10\n",
            "2694/2694 [==============================] - 174s 62ms/step - loss: 9.4004e-04 - val_loss: 2.2098e-04\n",
            "Epoch 2/10\n",
            "2694/2694 [==============================] - 165s 61ms/step - loss: 5.1195e-04 - val_loss: 1.2337e-04\n",
            "Epoch 3/10\n",
            "2694/2694 [==============================] - 170s 63ms/step - loss: 4.7958e-04 - val_loss: 2.7750e-05\n",
            "Epoch 4/10\n",
            "2694/2694 [==============================] - 174s 65ms/step - loss: 4.7100e-04 - val_loss: 2.5483e-05\n",
            "Epoch 5/10\n",
            "2694/2694 [==============================] - 169s 63ms/step - loss: 4.6877e-04 - val_loss: 4.2417e-05\n",
            "Epoch 6/10\n",
            "2694/2694 [==============================] - 170s 63ms/step - loss: 4.6635e-04 - val_loss: 4.2129e-05\n",
            "Epoch 7/10\n",
            "2694/2694 [==============================] - 172s 64ms/step - loss: 4.5361e-04 - val_loss: 3.7636e-05\n",
            "Epoch 8/10\n",
            "2694/2694 [==============================] - 170s 63ms/step - loss: 4.4591e-04 - val_loss: 1.3583e-04\n",
            "Epoch 9/10\n",
            "2694/2694 [==============================] - 172s 64ms/step - loss: 4.4555e-04 - val_loss: 2.6681e-05\n",
            "Epoch 10/10\n",
            "2694/2694 [==============================] - 172s 64ms/step - loss: 4.4929e-04 - val_loss: 4.0043e-05\n",
            "749/749 [==============================] - 15s 19ms/step\n",
            "Precision: 1.0\n",
            "Recall: 1.0\n",
            "F1 Score: 1.0\n",
            "                         open      high       low     close Signal\n",
            "timestamp                                                         \n",
            "2024-06-22 05:30:00  64361.49  64427.98  64334.01  64424.21   SELL\n",
            "2024-06-22 06:00:00  64424.21  64466.00  64362.06  64408.56   SELL\n",
            "2024-06-22 06:30:00  64408.57  64530.61  64370.00  64430.00    BUY\n",
            "2024-06-22 07:00:00  64430.01  64444.00  64324.67  64408.19    BUY\n",
            "2024-06-22 07:30:00  64408.18  64490.79  64402.54  64465.29   SELL\n"
          ]
        }
      ]
    }
  ]
}